{
 "cells": [
  {
   "cell_type": "code",
   "execution_count": null,
   "id": "60636fe0-ec00-44d5-aea2-74b855818dab",
   "metadata": {},
   "outputs": [],
   "source": [
    "import datetime\n",
    "\n",
    "class Holidays2024:\n",
    "    def __init__(self):\n",
    "        self.holidays = {\n",
    "            datetime.date(2024, 1, 1): \"New Year's Day\",\n",
    "            datetime.date(2024, 1, 26): \"Republic Day\",\n",
    "            datetime.date(2024, 3, 29): \"Holi\",\n",
    "            datetime.date(2024, 4, 10): \"Ram Navami\",\n",
    "            datetime.date(2024, 5, 1): \"Labor Day\",\n",
    "            datetime.date(2024, 8, 15): \"Independence Day\",\n",
    "            datetime.date(2024, 10, 2): \"Gandhi Jayanti\",\n",
    "            datetime.date(2024, 10, 24): \"Dussehra\",\n",
    "            datetime.date(2024, 11, 12): \"Diwali\",\n",
    "            datetime.date(2024, 12, 25): \"Christmas Day\",\n",
    "        }\n",
    "\n",
    "    def is_holiday(self, date):\n",
    "        return date in self.holidays\n",
    "\n",
    "    def get_holiday(self, date):\n",
    "        return self.holidays.get(date, \"Not a holiday\")\n",
    "\n",
    "    def get_holidays_in_month(self, month):\n",
    "        return {date: name for date, name in self.holidays.items() if date.month == month}\n",
    "\n",
    "\n",
    "if __name__ == \"__main__\":\n",
    "    holidays = Holidays2024()\n",
    "    date_to_check = datetime.date(2024, 8, 15)\n",
    "    result_is_holiday = \"Is \" + str(date_to_check) + \" a holiday? \" + str(holidays.is_holiday(date_to_check))\n",
    "    result_get_holiday = \"Holiday on \" + str(date_to_check) + \": \" + holidays.get_holiday(date_to_check)\n",
    "    result_get_holidays_in_month = \"Holidays in January: \" + str(holidays.get_holidays_in_month(1))\n",
    "    \n",
    "    print(result_is_holiday)\n",
    "    print(result_get_holiday)\n",
    "    print(result_get_holidays_in_month)"
   ]
  },
  {
   "cell_type": "code",
   "execution_count": null,
   "id": "b121c724-be53-4eed-9830-8fd656ff9ce6",
   "metadata": {},
   "outputs": [],
   "source": []
  }
 ],
 "metadata": {
  "kernelspec": {
   "display_name": "Python 3 (ipykernel)",
   "language": "python",
   "name": "python3"
  },
  "language_info": {
   "name": ""
  }
 },
 "nbformat": 4,
 "nbformat_minor": 5
}
