{
 "cells": [
  {
   "cell_type": "code",
   "execution_count": 10,
   "id": "83487348-3424-40fa-b60b-f62d775db92c",
   "metadata": {},
   "outputs": [
    {
     "name": "stdout",
     "output_type": "stream",
     "text": [
      "The GCD of 48 and 18 is: 6\n"
     ]
    }
   ],
   "source": [
    "def gcd(m,n):\n",
    "    while n!= 0:\n",
    "        remainder =m%n\n",
    "        m = n\n",
    "        n = remainder\n",
    "    return m\n",
    "num1 = 48\n",
    "num2 = 18\n",
    "result = gcd(num1, num2)\n",
    "print(f\"The GCD of {num1} and {num2} is: {result}\")\n"
   ]
  },
  {
   "cell_type": "code",
   "execution_count": 4,
   "id": "ae5c0612-8e3b-4a3c-9682-e51bfe45fbe3",
   "metadata": {},
   "outputs": [
    {
     "name": "stdout",
     "output_type": "stream",
     "text": [
      "[0, 14]\n"
     ]
    }
   ],
   "source": [
    "n=14\n",
    "l=[]\n",
    "for i in range(0,15):\n",
    "    if i%n==0:\n",
    "        l.append(i)\n",
    "print(l)\n",
    "\n",
    "def gcd(m, n):\n",
    "    i = min(m, n)\n",
    "    while i > 0:\n",
    "        if (m % i) == 0 and (n % i) == 0:\n",
    "            return i\n",
    "        i -= 1\n",
    "\n",
    "# Example usage\n",
    "print(gcd(12, 15))  # Output: 3\n",
    "print(gcd(100, 200))  # Output: 100\n"
   ]
  },
  {
   "cell_type": "code",
   "execution_count": 5,
   "id": "607dae6b-e4c0-4a2a-bc44-33b479965ead",
   "metadata": {},
   "outputs": [
    {
     "name": "stdout",
     "output_type": "stream",
     "text": [
      "The GCD of 48 and 18 is: 6\n"
     ]
    }
   ],
   "source": [
    "def gcd(a, b):\n",
    "    while b != 0:\n",
    "        remainder = a % b\n",
    "        a = b\n",
    "        b = remainder\n",
    "    return a\n",
    "\n",
    "# Example usage:\n",
    "num1 = 48\n",
    "num2 = 18\n",
    "result = gcd(num1, num2)\n",
    "print(\"The GCD of\", num1, \"and\", num2, \"is:\", result)\n"
   ]
  },
  {
   "cell_type": "code",
   "execution_count": 3,
   "id": "f4e9f6b5-5781-4f36-a9f3-aa2c728eb853",
   "metadata": {},
   "outputs": [
    {
     "name": "stdout",
     "output_type": "stream",
     "text": [
      "The GCD of 14 and 63 is: 7\n"
     ]
    }
   ],
   "source": [
    "#1)simple gcd using python\n",
    "def gcd(m,n):\n",
    "    fm=[]\n",
    "    for i in range(1,m+1):\n",
    "        if(m%i)==0:\n",
    "            fm.append(i)\n",
    "    fn=[]\n",
    "    for j in range(1,n+1):\n",
    "        if(n%j)==0:\n",
    "            fn.append(j)\n",
    "    cf=[]\n",
    "    for k in fm:\n",
    "        if k in fn:\n",
    "            cf.append(k)\n",
    "    return(cf[-1])\n",
    "num1=14\n",
    "num2=63\n",
    "result=gcd(num1,num2)\n",
    "print(\"The GCD of\", num1, \"and\", num2, \"is:\", result)"
   ]
  },
  {
   "cell_type": "code",
   "execution_count": 4,
   "id": "818593c3-402c-41ce-9f56-a4158cebec0b",
   "metadata": {},
   "outputs": [],
   "source": [
    "#2)min and max method\n",
    "def gcd(m,n):\n",
    "    cf=[]\n",
    "    for i in range(1,min(m,n)+1):\n",
    "        if (m%i)==0 and (n%i)==0:\n",
    "            cf.append(i)\n",
    "    return(cf[-i]) "
   ]
  },
  {
   "cell_type": "code",
   "execution_count": 5,
   "id": "70866bd2-9957-497d-a564-7fdc9e8b9051",
   "metadata": {},
   "outputs": [],
   "source": [
    "#3)without using lists\n",
    "def gcd(m,n):\n",
    "    for i in range(1,min(m,n)+1):\n",
    "        if (m%i)==0 and (n%i)==0:\n",
    "            mrcf = i #mrcf means most recent common factor\n",
    "    return(cf[-i]) "
   ]
  },
  {
   "cell_type": "code",
   "execution_count": 9,
   "id": "37945341-160e-419b-89ee-45eac312d66a",
   "metadata": {},
   "outputs": [],
   "source": [
    "#4)using backward scan\n",
    "def gcd(m,n):\n",
    "    for i in range(min(m,n),1):\n",
    "        if (m%i)==0 and (n%i)==0:\n",
    "            mrcf = i\n",
    "    return(cf[-i])"
   ]
  },
  {
   "cell_type": "code",
   "execution_count": 8,
   "id": "d7884504-87b7-418a-bebf-031366a2862b",
   "metadata": {},
   "outputs": [],
   "source": [
    "#5)using while loop\n",
    "def gcd(m,n):\n",
    "    i = min(m, n)\n",
    "    while i > 0:\n",
    "        if (m % i)==0 and (n % i)==0:\n",
    "            return i\n",
    "        else:\n",
    "            i=i-1   "
   ]
  },
  {
   "cell_type": "code",
   "execution_count": null,
   "id": "3c764334-b24c-4778-b855-e44549cfae58",
   "metadata": {},
   "outputs": [],
   "source": [
    "#why,what,how\n",
    "C:/Users/komal/OneDrive/Documents/G KOMALA - Skills Profile - Credly_files/tracker.js.download"
   ]
  },
  {
   "cell_type": "code",
   "execution_count": 1,
   "id": "98e24733-21a3-4234-b29b-26e8e8b547ff",
   "metadata": {},
   "outputs": [],
   "source": [
    "#Euclid Algorithm\n",
    "#Prerequisite: m>n\n",
    "def Euclid_gcd(m,n):\n",
    "    if n==0:\n",
    "        return m\n",
    "    else:\n",
    "        return Euclid_gcd(n,m % n)\n"
   ]
  },
  {
   "cell_type": "code",
   "execution_count": null,
   "id": "bf1b4aba-94bb-49c0-aa2a-ea563b9999b0",
   "metadata": {},
   "outputs": [],
   "source": [
    "from array import*\n",
    "arrayName=array(typecode"
   ]
  },
  {
   "cell_type": "code",
   "execution_count": 17,
   "id": "4bd6f70a-ac2d-4c88-9227-60faff846ed9",
   "metadata": {},
   "outputs": [
    {
     "name": "stdout",
     "output_type": "stream",
     "text": [
      "Result: 4\n"
     ]
    }
   ],
   "source": [
    "#5)\n",
    "n = 13\n",
    "d = 2\n",
    "low = 1\n",
    "high = 13\n",
    "while low <= high:\n",
    "    mid = (low + high) // 2\n",
    "    sum_digits = sum(int(digit) for digit in str(mid))  \n",
    "    if (mid-sum_digits) <=2:\n",
    "        low = mid + 1\n",
    "    else:\n",
    "        high = mid - 1\n",
    "result = n - high\n",
    "print(\"Result:\", result)"
   ]
  },
  {
   "cell_type": "code",
   "execution_count": 4,
   "id": "1bc6b0c4-f337-4701-ba96-711590eb4dd8",
   "metadata": {},
   "outputs": [
    {
     "name": "stdout",
     "output_type": "stream",
     "text": [
      "10\n",
      "20\n",
      "30\n",
      "40\n",
      "50\n"
     ]
    }
   ],
   "source": [
    "#creating array\n",
    "from array import*\n",
    "array1=array('i',[10,20,30,40,50])\n",
    "for x in array1:\n",
    "    print(x)"
   ]
  },
  {
   "cell_type": "code",
   "execution_count": 7,
   "id": "a362cebe-f843-43c5-bb1a-89371967c1cc",
   "metadata": {},
   "outputs": [
    {
     "name": "stdout",
     "output_type": "stream",
     "text": [
      "40\n",
      "20\n"
     ]
    }
   ],
   "source": [
    "#accesing  Array elements by index valuess\n",
    "from array import*\n",
    "array1=array('i',[10,20,30,40,50])\n",
    "print(array1[3])\n",
    "print(array1[1])"
   ]
  },
  {
   "cell_type": "code",
   "execution_count": 9,
   "id": "0b4b58e1-a8cb-416a-9d54-89caa0943f39",
   "metadata": {},
   "outputs": [
    {
     "name": "stdout",
     "output_type": "stream",
     "text": [
      "10\n",
      "20\n",
      "30\n",
      "40\n",
      "50\n",
      "60\n"
     ]
    }
   ],
   "source": [
    "#insertion Operstion have two parameters:1) index position and 2)element\n",
    "from array import*\n",
    "array1=array('i',[10,20,30,40,50])\n",
    "array1.insert(5,60)\n",
    "for x in array1:\n",
    "    print(x)"
   ]
  },
  {
   "cell_type": "code",
   "execution_count": 13,
   "id": "60a8ba7d-b2c6-47dc-8294-f39103203b8d",
   "metadata": {},
   "outputs": [
    {
     "name": "stdout",
     "output_type": "stream",
     "text": [
      "10\n",
      "20\n",
      "30\n",
      "50\n"
     ]
    }
   ],
   "source": [
    "#deletion operation\n",
    "from array import*\n",
    "array1=array('i',[10,20,30,40,50])\n",
    "array1.remove(40)\n",
    "for x in array1:\n",
    "    print(x)"
   ]
  },
  {
   "cell_type": "code",
   "execution_count": 14,
   "id": "cc52fcb5-b174-42ac-8419-327cc5b285b1",
   "metadata": {},
   "outputs": [
    {
     "name": "stdout",
     "output_type": "stream",
     "text": [
      "3\n"
     ]
    }
   ],
   "source": [
    "#searching operation\n",
    "array1=array('i',[10,20,30,40,50])\n",
    "print(array1.index(40))"
   ]
  },
  {
   "cell_type": "code",
   "execution_count": 15,
   "id": "b95a4464-3a9e-42af-8808-1e8039509eb4",
   "metadata": {},
   "outputs": [
    {
     "name": "stdout",
     "output_type": "stream",
     "text": [
      "10\n",
      "20\n",
      "80\n",
      "40\n",
      "50\n"
     ]
    }
   ],
   "source": [
    "#update operation\n",
    "array1=array('i',[10,20,30,40,50])\n",
    "array1[2]=80\n",
    "for x in array1:\n",
    "    print(x)"
   ]
  },
  {
   "cell_type": "code",
   "execution_count": 20,
   "id": "4a9b4870-c303-4d28-82d1-89a55db06876",
   "metadata": {},
   "outputs": [
    {
     "name": "stdout",
     "output_type": "stream",
     "text": [
      "1\n",
      "2\n",
      "3\n",
      "4\n",
      "5\n"
     ]
    }
   ],
   "source": [
    "#1) find the largest and smallest elements in an array\n",
    "#write a python function that takes an array of numbers and returns the largest and smallest elements in the array\n",
    "#hint:Use Built-in functions min(),max()\n",
    "from array import*\n",
    "a=array('i',[1,2,3,4,5])\n",
    "for x in a:\n",
    "    print(x)\n"
   ]
  },
  {
   "cell_type": "code",
   "execution_count": 21,
   "id": "c4793e82-5bf8-404e-a07b-498fe42a14d0",
   "metadata": {},
   "outputs": [
    {
     "name": "stdout",
     "output_type": "stream",
     "text": [
      "5\n",
      "4\n",
      "3\n",
      "2\n",
      "1\n"
     ]
    }
   ],
   "source": [
    "#2)calculate sum and average of array elements:write a python function that calculates and returns the sum and the average of the elements in an array\n",
    "#3)Reverse an array without using bulit-in function\n",
    "#4)write a function to remove duplicates from an array and return the result as a new array Hint:Use type conversion-list,set\n",
    "#5)write a function that makes an array and an element as input,and returns the index of the element in the array.if the elements is not found,it should retrn -1\n",
    "#6)give 2 arrays,write a python function to find the intersection of both the arrays.hint:-use list and set concepts\n",
    "#7)wrie a function to rotate an array to find the right by k positions\n",
    "#for eg:   if array is [1,2,3,4,5] and k=2,\n",
    "#          the output shounld be=[4,5,1,2,3]\n",
    "a=array('i',[1,2,3,4,5])\n",
    "b=a[::-1]\n",
    "for x in b:\n",
    "    print(x)\n"
   ]
  },
  {
   "cell_type": "code",
   "execution_count": 22,
   "id": "15be20d0-4b5b-45f9-9ab6-f1af8231fb4f",
   "metadata": {},
   "outputs": [
    {
     "name": "stdout",
     "output_type": "stream",
     "text": [
      "{1, 2, 3, 4, 5}\n"
     ]
    }
   ],
   "source": [
    "a=array('i',[1,2,2,2,3,4,4,4,5,5,5])\n",
    "b=set(a)\n",
    "print(b)"
   ]
  },
  {
   "cell_type": "code",
   "execution_count": 7,
   "id": "904570b4-cd36-4d4c-ad55-b0aef7e8a415",
   "metadata": {},
   "outputs": [
    {
     "name": "stdout",
     "output_type": "stream",
     "text": [
      "4\n",
      "-1\n"
     ]
    }
   ],
   "source": [
    "def index(arr, element):\n",
    "    try:\n",
    "        return arr.index(element)  \n",
    "    except ValueError: \n",
    "        return -1\n",
    "arr = [10, 20, 30, 40, 50]\n",
    "print(index(arr, 50)) \n",
    "print(index(arr, 100))\n"
   ]
  },
  {
   "cell_type": "code",
   "execution_count": 8,
   "id": "f42b8bc6-2ebb-4622-bf74-da89bd37aac6",
   "metadata": {},
   "outputs": [
    {
     "name": "stdout",
     "output_type": "stream",
     "text": [
      "[4, 5]\n"
     ]
    }
   ],
   "source": [
    "def intersection(a,b):\n",
    "    return list(set(a)&set(b))\n",
    "a= [1, 2, 3, 4, 5]\n",
    "b= [4, 5, 6, 7, 8]\n",
    "\n",
    "print(intersection(a,b))\n"
   ]
  },
  {
   "cell_type": "code",
   "execution_count": 14,
   "id": "3dac716e-a9c9-40b2-af62-e325c5c4a4ee",
   "metadata": {},
   "outputs": [
    {
     "name": "stdout",
     "output_type": "stream",
     "text": [
      "[4, 5, 1, 2, 3]\n"
     ]
    }
   ],
   "source": [
    "def rotate_right(arr, k):\n",
    "    k=k % len(arr) \n",
    "    return arr[-k:] + arr[:-k]\n",
    "arr=[1, 2, 3, 4, 5]\n",
    "k=2\n",
    "print(rotate_right(arr, k))\n"
   ]
  },
  {
   "cell_type": "code",
   "execution_count": 23,
   "id": "2b93cc0f-9096-4793-af0b-b339f1fd5f62",
   "metadata": {},
   "outputs": [
    {
     "name": "stdout",
     "output_type": "stream",
     "text": [
      "4\n"
     ]
    }
   ],
   "source": [
    "N=13;D=2\n",
    "Low=1;High=13\n",
    "while Low<=High:\n",
    "    mid=(High+Low)//2\n",
    "    sum_d=sum(int(digit)for digit in str(mid))\n",
    "    if abs(mid-sum_d)<=D:\n",
    "        Low=mid+1\n",
    "    else:\n",
    "        High=mid-1\n",
    "print(N-High)"
   ]
  },
  {
   "cell_type": "code",
   "execution_count": 14,
   "id": "d7ee7227-bc58-4bd9-bdd1-414ef267ca99",
   "metadata": {},
   "outputs": [
    {
     "data": {
      "text/plain": [
       "8"
      ]
     },
     "execution_count": 14,
     "metadata": {},
     "output_type": "execute_result"
    }
   ],
   "source": [
    "#Last Occurence of one\n",
    "import numpy as np\n",
    "arr = np.array([0,0,1,1,0,1,1,0,1,0])\n",
    "def last_1(arr):\n",
    "    index = -1\n",
    "    for i in range(len(arr)):\n",
    "        if arr[i] == 1:\n",
    "            index = i\n",
    "    return index\n",
    "a=last_1(arr)\n",
    "a"
   ]
  },
  {
   "cell_type": "code",
   "execution_count": 22,
   "id": "3f72c81f-2030-4afe-aa60-d77e987cb889",
   "metadata": {},
   "outputs": [],
   "source": [
    "import numpy as np\n",
    "arr=np.array([0,0,1,1,0,1,1,0,1,0])\n",
    "def last_1(arr):\n",
    "    index = -1\n",
    "    index =last_1(arr)\n",
    "    for i in range(len(arr)):\n",
    "        if arr[i]==1:\n",
    "            index=i\n",
    "    return index\n"
   ]
  },
  {
   "cell_type": "code",
   "execution_count": 27,
   "id": "b4d34da0-6fe6-4662-939e-25822feb3f4c",
   "metadata": {},
   "outputs": [
    {
     "name": "stdout",
     "output_type": "stream",
     "text": [
      "Name: Komala\n",
      "Age: 21\n"
     ]
    }
   ],
   "source": [
    "class Person:\n",
    "    def __init__(self,name,age):\n",
    "        self.name =name\n",
    "        self.age = age\n",
    "    def get_name(self):\n",
    "        return self.name\n",
    "    def get_age(self):\n",
    "        return self.age\n",
    "    def display_info(self):\n",
    "        print(\"Name:\",self.name)\n",
    "        print(\"Age:\", self.age)\n",
    "person = Person(\"Komala\", 21)\n",
    "person.display_info()"
   ]
  },
  {
   "cell_type": "code",
   "execution_count": null,
   "id": "433decad-b35d-4358-a099-773d5e8a7b1f",
   "metadata": {},
   "outputs": [],
   "source": [
    "class Node:\n",
    "    def __init__(self,data,next adress):\n",
    "        self.data=data\n",
    "        self.next adress="
   ]
  },
  {
   "cell_type": "code",
   "execution_count": 11,
   "id": "65db102c-dde9-49eb-be7b-e6bc1aacedf1",
   "metadata": {},
   "outputs": [
    {
     "name": "stdout",
     "output_type": "stream",
     "text": [
      "23\n",
      "11 12 13 \n",
      "21 22 23 \n",
      "31 32 33 \n"
     ]
    }
   ],
   "source": [
    "x = [\n",
    "    [11,12,13],\n",
    "    [21,22,23],\n",
    "    [31,32,33]\n",
    "]\n",
    "\n",
    "# Access elements of 2D array\n",
    "op = x[1][2]\n",
    "print(op)  # Output: 23\n",
    "\n",
    "# Traverse all elements\n",
    "for i in x:\n",
    "    for j in i:  # Traverse elements within each row\n",
    "        print(j, end=\" \")  # Print elements in a single row with space\n",
    "    print()  # Print newline after each row\n"
   ]
  },
  {
   "cell_type": "code",
   "execution_count": 10,
   "id": "1817f4e7-eacf-43df-bfae-643d2220b714",
   "metadata": {},
   "outputs": [
    {
     "name": "stdout",
     "output_type": "stream",
     "text": [
      "22 24 26 \n",
      "42 44 46 \n",
      "62 64 66 \n"
     ]
    }
   ],
   "source": [
    "x1= [\n",
    "    [11,12,13],\n",
    "    [21,22,23],\n",
    "    [31,32,33]\n",
    "]\n",
    "x2= [\n",
    "    [11,12,13],\n",
    "    [21,22,23],\n",
    "    [31,32,33]\n",
    "]\n",
    "result = []\n",
    "\n",
    "# Matrix addition\n",
    "for i in range(len(x1)):\n",
    "    row = []\n",
    "    for j in range(len(x1[0])):\n",
    "        row.append(x1[i][j] + x2[i][j])\n",
    "    result.append(row)\n",
    "\n",
    "# Print output\n",
    "for i in result:\n",
    "    for j in i:\n",
    "        print(j, end=\" \")\n",
    "    print()\n"
   ]
  },
  {
   "cell_type": "code",
   "execution_count": 11,
   "id": "16160471-8be0-4ce9-b13a-59a5fd6a5444",
   "metadata": {},
   "outputs": [
    {
     "name": "stdout",
     "output_type": "stream",
     "text": [
      "776 812 848 \n",
      "1406 1472 1538 \n",
      "2036 2132 2228 \n"
     ]
    }
   ],
   "source": [
    "x1 = [\n",
    "    [11,12,13],\n",
    "    [21,22,23],\n",
    "    [31,32,33]\n",
    "]\n",
    "x2 = [\n",
    "    [11,12,13],\n",
    "    [21,22,23],\n",
    "    [31,32,33]\n",
    "]\n",
    "result = []\n",
    "for i in range(len(x1)):\n",
    "    row = []\n",
    "    for j in range(len(x2[0])):\n",
    "        element = 0\n",
    "        for k in range(len(x1[0])):\n",
    "            element += x1[i][k] * x2[k][j]\n",
    "        row.append(element)\n",
    "    result.append(row)\n",
    "for i in result:\n",
    "    for j in i:\n",
    "        print(j, end=\" \")\n",
    "    print()"
   ]
  },
  {
   "cell_type": "code",
   "execution_count": 9,
   "id": "11dd0755-9290-417a-acdd-b582dd50ff9c",
   "metadata": {},
   "outputs": [
    {
     "name": "stdout",
     "output_type": "stream",
     "text": [
      "[0, 1, 1, 2, 3, 5, 8, 13, 21, 34]\n"
     ]
    }
   ],
   "source": [
    "def fibonacci_iterative(n):\n",
    "    fib_sequence = []\n",
    "    a, b = 0, 1\n",
    "    for i in range(n):\n",
    "        fib_sequence.append(a)\n",
    "        a, b = b, a + b\n",
    "    return fib_sequence\n",
    "n_terms = 10\n",
    "print(fibonacci_iterative(n_terms))"
   ]
  },
  {
   "cell_type": "code",
   "execution_count": 12,
   "id": "41ad51c0-5f5a-4ab2-92e6-b54aa524c16b",
   "metadata": {},
   "outputs": [
    {
     "name": "stdout",
     "output_type": "stream",
     "text": [
      "30 -> 20 -> 10 -> None\n"
     ]
    }
   ],
   "source": [
    "class Node:\n",
    "    def __init__(self, newData=None, link=None): \n",
    "        self.data = newData\n",
    "        self.next = link\n",
    "class SingleLinkedList:\n",
    "    def __init__(self):\n",
    "        self.Head = None  \n",
    "    def insert_begin(self, newData):\n",
    "        self.Head = Node(newData, self.Head)\n",
    "    def print_list(self):\n",
    "        curNode = self.Head\n",
    "        while curNode is not None:\n",
    "            print(curNode.data, end=\" -> \")\n",
    "            curNode = curNode.next\n",
    "        print(\"None\")\n",
    "linked_list = SingleLinkedList()\n",
    "linked_list.insert_begin(10)\n",
    "linked_list.insert_begin(20)\n",
    "linked_list.insert_begin(30)\n",
    "linked_list.print_list()"
   ]
  },
  {
   "cell_type": "code",
   "execution_count": 13,
   "id": "ed9a9fed-9e66-4c40-859e-44982425e713",
   "metadata": {},
   "outputs": [
    {
     "name": "stdout",
     "output_type": "stream",
     "text": [
      "10 -> 20 -> 30 -> None\n"
     ]
    }
   ],
   "source": [
    "class Node:\n",
    "    def __init__(self, data):\n",
    "        self.data = data\n",
    "        self.next = None\n",
    "class LinkedList:\n",
    "    def __init__(self):\n",
    "        self.Head = None\n",
    "    def insert_end(self, newData):\n",
    "        newNode = Node(newData)\n",
    "        if self.Head is None:\n",
    "            self.Head = newNode\n",
    "        else:\n",
    "            curNode = self.Head\n",
    "            while curNode.next is not None:\n",
    "                curNode = curNode.next\n",
    "            curNode.next = newNode\n",
    "    def print_list(self):\n",
    "        curNode = self.Head\n",
    "        while curNode is not None:\n",
    "            print(curNode.data, end=\" -> \")\n",
    "            curNode = curNode.next\n",
    "        print(\"None\")\n",
    "linked_list = LinkedList()\n",
    "linked_list.insert_end(10)\n",
    "linked_list.insert_end(20)\n",
    "linked_list.insert_end(30)\n",
    "linked_list.print_list()\n"
   ]
  },
  {
   "cell_type": "code",
   "execution_count": null,
   "id": "46425e0a-128d-455f-aefa-4135bbed2846",
   "metadata": {},
   "outputs": [],
   "source": []
  }
 ],
 "metadata": {
  "kernelspec": {
   "display_name": "Python 3 (ipykernel)",
   "language": "python",
   "name": "python3"
  },
  "language_info": {
   "codemirror_mode": {
    "name": "ipython",
    "version": 3
   },
   "file_extension": ".py",
   "mimetype": "text/x-python",
   "name": "python",
   "nbconvert_exporter": "python",
   "pygments_lexer": "ipython3",
   "version": "3.12.4"
  }
 },
 "nbformat": 4,
 "nbformat_minor": 5
}
